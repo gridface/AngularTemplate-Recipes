{
  "nbformat": 4,
  "nbformat_minor": 0,
  "metadata": {
    "colab": {
      "name": "simple-stock-charts.ipynb",
      "provenance": [],
      "collapsed_sections": [],
      "authorship_tag": "ABX9TyPQTMxItV+ssB9ebQvmGSL4",
      "include_colab_link": true
    },
    "kernelspec": {
      "name": "python3",
      "display_name": "Python 3"
    },
    "language_info": {
      "name": "python"
    }
  },
  "cells": [
    {
      "cell_type": "markdown",
      "metadata": {
        "id": "view-in-github",
        "colab_type": "text"
      },
      "source": [
        "<a href=\"https://colab.research.google.com/github/gridface/AngularTemplate-Recipes/blob/master/simple_stock_charts.ipynb\" target=\"_parent\"><img src=\"https://colab.research.google.com/assets/colab-badge.svg\" alt=\"Open In Colab\"/></a>"
      ]
    },
    {
      "cell_type": "code",
      "execution_count": 14,
      "metadata": {
        "colab": {
          "base_uri": "https://localhost:8080/"
        },
        "id": "1SZk9JBnry0k",
        "outputId": "bb16d7fd-6fb6-46a9-ee41-3fd152e0a3c0"
      },
      "outputs": [
        {
          "output_type": "stream",
          "name": "stdout",
          "text": [
            "Requirement already satisfied: yfinance in /usr/local/lib/python3.7/dist-packages (0.1.70)\n",
            "Requirement already satisfied: pandas>=0.24.0 in /usr/local/lib/python3.7/dist-packages (from yfinance) (1.3.5)\n",
            "Requirement already satisfied: multitasking>=0.0.7 in /usr/local/lib/python3.7/dist-packages (from yfinance) (0.0.10)\n",
            "Requirement already satisfied: lxml>=4.5.1 in /usr/local/lib/python3.7/dist-packages (from yfinance) (4.8.0)\n",
            "Requirement already satisfied: numpy>=1.15 in /usr/local/lib/python3.7/dist-packages (from yfinance) (1.21.6)\n",
            "Requirement already satisfied: requests>=2.26 in /usr/local/lib/python3.7/dist-packages (from yfinance) (2.27.1)\n",
            "Requirement already satisfied: pytz>=2017.3 in /usr/local/lib/python3.7/dist-packages (from pandas>=0.24.0->yfinance) (2022.1)\n",
            "Requirement already satisfied: python-dateutil>=2.7.3 in /usr/local/lib/python3.7/dist-packages (from pandas>=0.24.0->yfinance) (2.8.2)\n",
            "Requirement already satisfied: six>=1.5 in /usr/local/lib/python3.7/dist-packages (from python-dateutil>=2.7.3->pandas>=0.24.0->yfinance) (1.15.0)\n",
            "Requirement already satisfied: idna<4,>=2.5 in /usr/local/lib/python3.7/dist-packages (from requests>=2.26->yfinance) (2.10)\n",
            "Requirement already satisfied: charset-normalizer~=2.0.0 in /usr/local/lib/python3.7/dist-packages (from requests>=2.26->yfinance) (2.0.12)\n",
            "Requirement already satisfied: certifi>=2017.4.17 in /usr/local/lib/python3.7/dist-packages (from requests>=2.26->yfinance) (2021.10.8)\n",
            "Requirement already satisfied: urllib3<1.27,>=1.21.1 in /usr/local/lib/python3.7/dist-packages (from requests>=2.26->yfinance) (1.24.3)\n"
          ]
        }
      ],
      "source": [
        "#example\n",
        "\n",
        "#you can make this faster by shedding the series and just returning values\n",
        "# np.where(\n",
        "# df['status_at_time_of_lead'] == 'None',\n",
        "# df['current_status'],\n",
        "# df['status_at_time_of_lead'])\n",
        "\n",
        "# func = emps['Hire'] = np.where(\n",
        "#     emps['YearsExperience'] > 30 ,\n",
        "#     emps['YearsExperience']+40,\n",
        "#     emps['YearsExperience']-5)\n",
        "\n",
        "\n",
        "#np.select() will allow you to evaluate 2+ conditions efficiently\n",
        "\n",
        "# conditions = [\n",
        "#     emps['YearsExperience'] > 15,\n",
        "#     (emps['Age'] > 50) & (emps['Gender'] == \"f\"),\n",
        "#     emps['Name'].str.startswith('s')\n",
        "# ]\n",
        "\n",
        "# choices = [\n",
        "#     'Second Interview',\n",
        "#     'Hire',\n",
        "#     \"Call\"\n",
        "# ]\n",
        "\n",
        "# bigFunc = emps['Hire'] = np.select(conditions, choices, default='Pass')\n",
        "\n",
        "# pay special attention to the order of execution here - it does not re-evaluate\n",
        "# notice how everyone with years of experience over 10 gets a second interview\n",
        "\n",
        "\n",
        "########           ##########\n",
        "#### NOTEBOOK SETUP #########\n",
        "########           ##########\n",
        "# use this line to install the yahoo finance api library. \n",
        "# Note that the official yahoo finance api is defunct, and this new library called \"yfinance\" has taken its place\n",
        "!pip install yfinance\n",
        "# once it is installed, we can import it like any other installed library\n",
        "import yfinance as yf\n",
        "#pandas, numpy and matplotlib libraries are already part of colab, so we just import them\n",
        "import pandas as pd\n",
        "import numpy as np\n",
        "import matplotlib.pyplot as plt\n",
        "\n",
        "#############################\n",
        "########### Utility Functions \n",
        "#############################\n",
        "####  these could eventually be pulled out into a separate file,\n",
        "####    but for now we keep them at the top of this notebook for convenience\n",
        "\n",
        "## function name: adder\n",
        "## description: this adds extra columns full of zeros for additional processing\n",
        "## Usage:\n",
        "## my_data = adder(my_data,5) #this addes 5 new colums to the my_data array\n",
        "def adder(Data, times):\n",
        "  for i in range(1,times + 1):\n",
        "    z = np.zeros((len(Data),1),dtype = float)\n",
        "    Data = np.append(Data,z,axis = 1)\n",
        "  return Data\n",
        "\n",
        "\n",
        "## function name: deleter\n",
        "## description: deletes a specified number of columns from an array\n",
        "## usage: my_data = deleter(my_data,5,2) #deletes 2 columns starting from the 5th column\n",
        "def deleter(Data,index,times):\n",
        "  for i in range(1,times+1):\n",
        "    Data = np.delete(Data, index, axis = 1)\n",
        "  return Data\n",
        "\n",
        "## function name: jump\n",
        "## description: deletes a specified number of rows from an array\n",
        "## usage: my_data = jump(my_data,10) #deletes first 10 rows of an array\n",
        "def jump(Data,jump):\n",
        "  Data = Data[jump:,]\n",
        "  return Data\n",
        "\n",
        "## function name: ma\n",
        "## description: inserts moving average data into a specified column\n",
        "## usage: my_data = ma(my_data,20,3,4) #this inserts a 20 period moving average\n",
        "## based on column 4 (likely the closing price) into the fifth column\n",
        "## (an empty column you have prepared with the adder function)\n",
        "from pandas.core.base import DataError\n",
        "def ma(Data, lookback, what, where):\n",
        "  for i in range(len(Data)):\n",
        "    try:\n",
        "      Data[i, where] = (Data[i - lookback +1:i + 1, what].mean())\n",
        "    except IndexError:\n",
        "      pass\n",
        "  return Data\n",
        "## function name: signal\n",
        "## description: populates buy/sell columns following crossovers from ma \n",
        "## usage: signal(my_data,3,4,5,6) # takes the closing data (col 3) and the\n",
        "## ma data (column 4) and populates the prepared columns (col 5 and 6) \n",
        "## with a signal indicator which is 1 for buy and -1 for sell\n",
        "## NOTE: this came from a book, and i think we can make this faster with np.where()\n",
        "\n",
        "\n",
        "def signal(Data, closing, moving_average, buy, sell):\n",
        "  for i in range(len(Data)):\n",
        "    if Data[i,closing] > Data[i,moving_average] and Data[i - 1, closing] < Data[i - 1, moving_average]:\n",
        "      Data[i,buy]=1\n",
        "    if Data[i,closing] < Data[i,moving_average] and Data[i - 1, closing] < Data[i - 1, moving_average]:\n",
        "      Data[i,sell]=-1\n",
        "  return Data\n",
        "\n",
        "## function name: volatility\n",
        "## description: calculates the volatility (ie, standard deviation) of the \n",
        "## running closing price and places it in a specified column\n",
        "## Usage: my_data = volatility(my_data,10,3,4)\n",
        "##  calculates a 10-period volatility score for closing prices (3) and places them in column 4\n",
        "def volatility(Data,lookback,what,where):\n",
        "  for i in range(len(Data)):\n",
        "    try:\n",
        "      Data[i,where] = (Data[i-lookback + 1:i + 1, what].std())\n",
        "    except IndexError:\n",
        "      pass\n",
        "  return Data\n",
        "\n",
        "## function name: normalizer\n",
        "## description: \n",
        "## \n",
        "## Usage: my_data = normalizer(my_data,5,3,4)\n",
        "##  \n",
        "def normalizer(Data,lookback,what,where):\n",
        "  for i in range(len(Data)):\n",
        "    try:\n",
        "      Data[i,where] = (Data[i,what] - min(Data[i-lookback + 1:i+1,\n",
        "        what]))/(max(Data[i-lookback + 1:i + 1,what]) - min(Data[i-lookback+1:i+1,what]))\n",
        "    except ValueError:\n",
        "      pass\n",
        "  Data[:,where] = Data[:,where]*100\n",
        "  Data = jump(Data,lookback)\n",
        "  return Data\n",
        "\n",
        "## function name: normalizer\n",
        "## description: returns the equity curve of a strategy against a stock\n",
        "#honestly, i am not sure what these columns are exactly, nor how to use the inputs\n",
        "#0: buy profit\n",
        "#1: sell profit\n",
        "#2: cumulative percentage\n",
        "#3: cumulative profits with initial investments\n",
        "def indexer(Data,expected_cost,lot,investment):\n",
        "  #charting portfolio evolution\n",
        "  # indexer = Data[:,first_column_of_holding_period:second_column_of_holding_period+1]\n",
        "  indexer = Data[:,7:8+1] \n",
        "  #creating a combined array for long and short returns\n",
        "  z = np.zeros((len(Data),1),dtype=float)\n",
        "  indexer=np.append(indexer,z,axis=1)\n",
        "  #combining returns\n",
        "  for i in range(len(indexer)):\n",
        "    try:\n",
        "      if indexer[i,0]!=0:\n",
        "        indexer[i,2] = indexer[i,0] - (expected_cost/lot)\n",
        "\n",
        "      if indexer[i,1]!=0:\n",
        "        indexer[i,2] = indexer[i,0] - (expected_cost/lot)\n",
        "    except IndexError:\n",
        "      pass\n",
        "  #switching to monetary values\n",
        "  indexer[:,2] = indexer[:,2]*lot\n",
        "  #creating a portfolio balance array\n",
        "  indexer = np.append(indexer,z,axis=1)\n",
        "  indexer[:,3] = investment\n",
        "  #Adding returns to the balance\n",
        "  for i in range(len(indexer)):\n",
        "    indexer[i,3] = indexer[i-1,3]+(indexer[i,2])\n",
        "  indexer = np.array(indexer)\n",
        "  return np.array(indexer)\n",
        "\n",
        "#function name: rsi\n",
        "#description: provides relative strength indicator for a stock\n",
        "def rsi(Data, lookback, close, where, width = 1, genre = 'Smoothed'):\n",
        "    \n",
        "    # Adding a few columns\n",
        "    Data = adder(Data, 7)\n",
        "    \n",
        "    # Calculating Differences\n",
        "    for i in range(len(Data)):\n",
        "        \n",
        "        Data[i, where] = Data[i, close] - Data[i - width, close]\n",
        "     \n",
        "    # Calculating the Up and Down absolute values\n",
        "    for i in range(len(Data)):\n",
        "        \n",
        "        if Data[i, where] > 0:\n",
        "            \n",
        "            Data[i, where + 1] = Data[i, where]\n",
        "            \n",
        "        elif Data[i, where] < 0:\n",
        "            \n",
        "            Data[i, where + 2] = abs(Data[i, where])\n",
        "            \n",
        "    # Calculating the Smoothed Moving Average on Up and Down\n",
        "    #absolute values    \n",
        "    if genre == 'Smoothed': \n",
        "                   \n",
        "      lookback = (lookback * 2) - 1 # From exponential to smoothed\n",
        "      Data = ema(Data, 2, lookback, where + 1, where + 3)\n",
        "      Data = ema(Data, 2, lookback, where + 2, where + 4)\n",
        "    \n",
        "    if genre == 'Simple':  \n",
        "                  \n",
        "      Data = ma(Data, lookback, where + 1, where + 3)\n",
        "      Data = ma(Data, lookback, where + 2, where + 4)\n",
        "    \n",
        "    # Calculating the Relative Strength\n",
        "    Data[:, where + 5] = Data[:, where + 3] / Data[:, where + 4]\n",
        "    \n",
        "    # Calculate the Relative Strength Index\n",
        "    Data[:, where + 6] = (100 - (100 / (1 + Data[:, where + 5])))  \n",
        "    \n",
        "    # Cleaning\n",
        "    Data = deleter(Data, where, 6)\n",
        "    Data = jump(Data, lookback)                        \n",
        "    return Data\n",
        "#We need to define the primal manipulation functions first in order to use the RSI’s function on OHLC data arrays.\n",
        "\n",
        "\n",
        "# function name: performance\n",
        "# description: prints out \n",
        "def performance(indexer, Data, name):\n",
        "  \n",
        "  # Profitability index\n",
        "  indexer = np.delete(indexer, 0, axis = 1)\n",
        "  indexer = np.delete(indexer, 0, axis = 1)\n",
        "  \n",
        "  profits = []\n",
        "  losses  = []\n",
        "  np.count_nonzero(Data[:, 7])\n",
        "  np.count_nonzero(Data[:, 8])\n",
        "  \n",
        "  for i in range(len(indexer)):\n",
        "      \n",
        "      if indexer[i, 0] > 0:\n",
        "          value    = indexer[i, 0]\n",
        "          profits  = np.append(profits, value)\n",
        "          \n",
        "      if indexer[i, 0] < 0:\n",
        "          value    = indexer[i, 0]\n",
        "          losses   = np.append(losses, value)\n",
        "  \n",
        "  # Hit ratio calculation\n",
        "  hit_ratio = round((len(profits) / (len(profits) + len(losses))) * 100, 2)\n",
        "  \n",
        "  realized_risk_reward = round(abs(profits.mean() / losses.mean()), 2)\n",
        "  \n",
        "  # Expected and total profits / losses\n",
        "  expected_profits = np.mean(profits)\n",
        "  expected_losses  = np.abs(np.mean(losses))\n",
        "  total_profits    = round(np.sum(profits), 3)\n",
        "  total_losses     = round(np.abs(np.sum(losses)), 3)\n",
        "  \n",
        "  # Expectancy\n",
        "  expectancy    = round((expected_profits * (hit_ratio / 100)) \\\n",
        "                  - (expected_losses * (1 - (hit_ratio / 100))), 2)\n",
        "      \n",
        "  # Largest Win and Largest Loss\n",
        "  largest_win = round(max(profits), 2)\n",
        "  largest_loss = round(min(losses), 2)    # Total Return\n",
        "  indexer = Data[:, 10:12]    \n",
        "  \n",
        "  # Creating a combined array for long and short returns\n",
        "  z = np.zeros((len(Data), 1), dtype = float)\n",
        "  indexer = np.append(indexer, z, axis = 1)\n",
        "  \n",
        "  # Combining Returns\n",
        "  for i in range(len(indexer)):\n",
        "      try:    \n",
        "        if indexer[i, 0] != 0:\n",
        "            indexer[i, 2] = indexer[i, 0] - (expected_cost / lot)\n",
        "              \n",
        "        if indexer[i, 1] != 0:\n",
        "            indexer[i, 2] = indexer[i, 1] - (expected_cost / lot)\n",
        "      except IndexError:\n",
        "          pass\n",
        "      \n",
        "  # Switching to monetary values\n",
        "  indexer[:, 2] = indexer[:, 2] * lot\n",
        "  \n",
        "  # Creating a portfolio balance array\n",
        "  indexer = np.append(indexer, z, axis = 1)\n",
        "  indexer[:, 3] = investment \n",
        "  \n",
        "  # Adding returns to the balance    \n",
        "  for i in range(len(indexer)):\n",
        "  \n",
        "      indexer[i, 3] = indexer[i - 1, 3] + (indexer[i, 2])\n",
        "  \n",
        "  indexer = np.array(indexer)\n",
        "  \n",
        "  total_return = (indexer[-1, 3] / indexer[0, 3]) - 1\n",
        "  total_return = total_return * 100\n",
        "  \n",
        "  \n",
        "  print('-----------Performance-----------', name)\n",
        "  print('Hit ratio       = ', hit_ratio, '%')\n",
        "  print('Net profit      = ', '$', round(indexer[-1, 3] - indexer[0, 3], 2))\n",
        "  print('Expectancy      = ', '$', expectancy, 'per trade')\n",
        "  print('Profit factor   = ' , round(total_profits / total_losses, 2)) \n",
        "  print('Total Return    = ', round(total_return, 2), '%')\n",
        "  print('')    \n",
        "  print('Average Gain    = ', '$', round((expected_profits), 2), 'per trade')\n",
        "  print('Average Loss    = ', '$', round((expected_losses * -1), 2), 'per trade')\n",
        "  print('Largest Gain    = ', '$', largest_win)\n",
        "  print('Largest Loss    = ', '$', largest_loss)    \n",
        "  print('')\n",
        "  print('Realized RR     = ', realized_risk_reward)\n",
        "  print('Minimum         =', '$', round(min(indexer[:, 3]), 2))\n",
        "  print('Maximum         =', '$', round(max(indexer[:, 3]), 2))\n",
        "  print('Trades          =', len(profits) + len(losses))\n"
      ]
    },
    {
      "cell_type": "code",
      "source": [
        "\n",
        "# conditions = [\n",
        "#     emps['YearsExperience'] > 15,\n",
        "#     (emps['Age'] > 50) & (emps['Gender'] == \"f\"),\n",
        "#     emps['Name'].str.startswith('s')\n",
        "# ]\n",
        "\n",
        "# choices = [\n",
        "#     'Second Interview',\n",
        "#     'Hire',\n",
        "#     \"Call\"\n",
        "# ]\n",
        "\n",
        "# bigFunc = emps['Hire'] = np.select(conditions, choices, default='Pass')\n",
        "\n",
        "def better_signal(Data, closing, moving_average, buy, sell):\n",
        "  for i in range(len(Data)):\n",
        "\n",
        "    conditions = [\n",
        "        Data[i,closing] > Data[i,moving_average] and Data[i - 1, closing] < Data[i - 1, moving_average],\n",
        "        Data[i,closing] < Data[i,moving_average] and Data[i - 1, closing] < Data[i - 1, moving_average]   \n",
        "    ]\n",
        "\n",
        "    choices = [\n",
        "        Data[i,buy]==1,\n",
        "        Data[i,sell]==-1,\n",
        "    ]\n",
        "\n",
        "    np.select(conditions, choices)\n",
        "  return Data"
      ],
      "metadata": {
        "id": "_xrXpBW_yUSL"
      },
      "execution_count": 15,
      "outputs": []
    },
    {
      "cell_type": "code",
      "source": [
        "#####\n",
        "## SET YOUR VARIABLES\n",
        "#####\n",
        "\n",
        "# choose your stock\n",
        "stock = \"aapl\"\n",
        "# valid periods: 1d,5d,1mo,3mo,6mo,1y,2y,5y,10y,ytd,max\n",
        "custom_period = \"1y\"\n",
        "# Moving average period\n",
        "my_ma = 10\n"
      ],
      "metadata": {
        "id": "SzWRzOcBfkRe"
      },
      "execution_count": 16,
      "outputs": []
    },
    {
      "cell_type": "code",
      "source": [
        "#####\n",
        "## CREATE THE DATASET\n",
        "#####\n",
        "\n",
        "#Call the yfinance api. for productionm we may want to switch this to quandl\n",
        "# https://data.nasdaq.com/databases/RTAT/pricing/plans\n",
        "ticker = yf.Ticker(stock)\n",
        "history = ticker.history(period=custom_period)\n",
        "# history.columns\n",
        "# Index(['Open', 'High', 'Low', 'Close', 'Volume', 'Dividends', 'Stock Splits'], dtype='object')\n",
        "\n",
        "#Create a numpy array of OHLC data\n",
        "#Even though I am referencing column numbers, (also known as \"fields\" (or \"series\" in a dataset)), \n",
        "#remember that these are 0 based, i.e. the first column is number 0\n",
        "history_array = history[['Open', 'High', 'Low', 'Close']].to_numpy()\n",
        "\n",
        "#lets add some empty columns to our array so we can run our moving average calculations.\n",
        "#note: you need to assign the existing array to the function, otherwise the function just creates a copy of the array with the new columns\n",
        "history_array = adder(history_array,5)\n",
        "\n",
        "#we can check to make sure we added the number of columns we wanted to. the first number is the x axis (the rows) and the second number is the y axis (the columns)\n",
        "#our numpy array should look like this when its populated (for a total of 9 columns):\n",
        "# [0]: Open\n",
        "# [1]: High\n",
        "# [2]: Low\n",
        "# [3]: Close\n",
        "# [4]: moving average (20 day or whatever)\n",
        "# [5]: buy signal\n",
        "# [6]: sell signal\n",
        "# [7]: buy return\n",
        "# [8]: sell return\n",
        "\n",
        "#history_array.shape\n",
        "#(254, 9)\n",
        "\n",
        "#data check to see that we pulled in our moving average (just the first 20 rows)\n",
        "#history_array[:20,[3,4,5]]\n",
        "\n",
        "#lets insert our 20 day moving average in column 4\n",
        "history_array = ma(history_array,my_ma,3,4)\n",
        "#since you are doing a moving average on the last i values, you will need to \n",
        "#delete out the first i number of records to make a useful chart\n",
        "#history_array = jump(history_array,my_ma)\n",
        "#lets populate columns 5 and 6 with our buy/sell signals\n",
        "\n",
        "# history_array = signal(history_array,3,4,5,6)\n",
        "history_array = better_signal(history_array,3,4,5,6)"
      ],
      "metadata": {
        "id": "NM47ZttaihrF",
        "colab": {
          "base_uri": "https://localhost:8080/"
        },
        "outputId": "2092115a-f668-4119-a53c-cf0decd0f8d2"
      },
      "execution_count": 17,
      "outputs": [
        {
          "output_type": "stream",
          "name": "stderr",
          "text": [
            "/usr/local/lib/python3.7/dist-packages/ipykernel_launcher.py:89: RuntimeWarning: Mean of empty slice.\n",
            "/usr/local/lib/python3.7/dist-packages/numpy/core/_methods.py:189: RuntimeWarning: invalid value encountered in double_scalars\n",
            "  ret = ret.dtype.type(ret / rcount)\n"
          ]
        }
      ]
    },
    {
      "cell_type": "code",
      "source": [
        "history_array.shape"
      ],
      "metadata": {
        "id": "InYyzxKRjF4A",
        "colab": {
          "base_uri": "https://localhost:8080/"
        },
        "outputId": "20f4a5b9-1f10-4d4b-db62-648f04735677"
      },
      "execution_count": 18,
      "outputs": [
        {
          "output_type": "execute_result",
          "data": {
            "text/plain": [
              "(253, 9)"
            ]
          },
          "metadata": {},
          "execution_count": 18
        }
      ]
    },
    {
      "cell_type": "code",
      "source": [
        "\n",
        "## function name: holding\n",
        "## description: uses the buy/sell bu/sell signals to backtest returns \n",
        "## usage: holding(my_data,buy,sell,buy_return,sell_return) \n",
        "## this takes the buy data (col 5) and sell data (col 6) then populates the \n",
        "## prepared columns (7 and 8) with estimated return for buys and sells\n",
        "## NOTE: this came from a book, and i think we can make this faster with np.where()\n",
        "def holding(Data, buy, sell, buy_return, sell_return):\n",
        "  try:\n",
        "    for i in range(len(Data)):\n",
        "      if Data[i,buy] ==1:\n",
        "        for a in range(i + 1, i + 1000):\n",
        "          if Data[a,buy]!=0 or Data[a,sell]!=0:\n",
        "            Data[a,buy_return]= (Data[a,3] - Data[i,3])\n",
        "            break\n",
        "          else:\n",
        "            continue\n",
        "      elif Data[i,sell] == -1:\n",
        "        for a in range(i + 1, i + 1000):\n",
        "          if Data[a,buy]!=0 or Data[a,sell]!=0:\n",
        "            Data[a,sell_return]= (Data[i,3] - Data[a,3])\n",
        "            break\n",
        "          else:\n",
        "            continue\n",
        "  except IndexError:\n",
        "      pass\n",
        "#holding(my_data,buy,sell,buy_return,sell_return)\n",
        "holding(history_array,5,6,7,8)"
      ],
      "metadata": {
        "id": "F0Byk0s-8T7E"
      },
      "execution_count": 19,
      "outputs": []
    },
    {
      "cell_type": "code",
      "source": [
        "history_array"
      ],
      "metadata": {
        "colab": {
          "base_uri": "https://localhost:8080/"
        },
        "id": "ycTB6zeJ9QHG",
        "outputId": "f7117b9c-d0d3-4360-e734-c5d4f11e6230"
      },
      "execution_count": 13,
      "outputs": [
        {
          "output_type": "execute_result",
          "data": {
            "text/plain": [
              "array([[131.00139   , 132.77087184, 130.29559346, ...,   0.        ,\n",
              "          0.        ,   0.        ],\n",
              "       [131.25985116, 133.27787111, 131.05110042, ...,   0.        ,\n",
              "          0.        ,   0.        ],\n",
              "       [130.41487425, 130.71310475, 125.95139768, ...,   0.        ,\n",
              "          0.        ,   0.        ],\n",
              "       ...,\n",
              "       [155.91000366, 159.78999329, 155.38000488, ...,  -1.        ,\n",
              "          0.        ,   0.22999573],\n",
              "       [159.25      , 164.52000427, 158.92999268, ...,   0.        ,\n",
              "          0.        ,  -7.06999207],\n",
              "       [161.83999634, 166.19999695, 157.25      , ...,   0.        ,\n",
              "          0.        ,   0.        ]])"
            ]
          },
          "metadata": {},
          "execution_count": 13
        }
      ]
    },
    {
      "cell_type": "code",
      "source": [
        "#lets plot it!\n",
        "import matplotlib.pyplot as plt\n",
        "plt.style.use(\"seaborn\")\n",
        "\n",
        "plt.plot(history_array[:,3], color = 'blue', label = 'closing price')\n",
        "plt.plot(history_array[:,4], color = 'red', label = 'moving average')\n",
        "plt.grid()\n",
        "plt.title(str(my_ma)+ ' day moving average')\n",
        "plt.legend(fontsize = 13)\n",
        "plt.show()"
      ],
      "metadata": {
        "colab": {
          "base_uri": "https://localhost:8080/",
          "height": 362
        },
        "id": "YJfWwnoF-bGd",
        "outputId": "8eb1436c-4a5b-46e7-e28d-49495b5b1fc4"
      },
      "execution_count": 20,
      "outputs": [
        {
          "output_type": "display_data",
          "data": {
            "text/plain": [
              "<Figure size 576x396 with 1 Axes>"
            ],
            "image/png": "[encoded data removed]"
          },
          "metadata": {}
        }
      ]
    },
    {
      "cell_type": "code",
      "source": [
        "#lets plot it!\n",
        "import matplotlib.pyplot as plt\n",
        "plt.style.use(\"seaborn\")\n",
        "\n",
        "plt.plot(history_array[:,7], color = 'blue', label = 'buy profit')\n",
        "plt.plot(history_array[:,8], color = 'red', label = 'sell profit')\n",
        "plt.grid()\n",
        "plt.title('potential profit realized off buy/sell indicators')\n",
        "plt.legend(fontsize = 13)\n",
        "plt.show()"
      ],
      "metadata": {
        "id": "e4myFuueFJth",
        "colab": {
          "base_uri": "https://localhost:8080/",
          "height": 362
        },
        "outputId": "5cc0bd56-99fd-43d7-8ffb-a9b6fde61efd"
      },
      "execution_count": 21,
      "outputs": [
        {
          "output_type": "display_data",
          "data": {
            "text/plain": [
              "<Figure size 576x396 with 1 Axes>"
            ],
            "image/png": "[encoded data removed]"
          },
          "metadata": {}
        }
      ]
    },
    {
      "cell_type": "code",
      "source": [
        "# Using the function for a 0.1 lot strategy on $1000 investment\n",
        "lot           = 10\n",
        "expected_cost = 0.5 * (lot / 1000) # 0.5 pip spread\n",
        "investment    = 1000                  \n",
        "equity_curve = indexer(history_array,expected_cost,lot,investment)"
      ],
      "metadata": {
        "id": "kx9gTpoxcSCZ"
      },
      "execution_count": null,
      "outputs": []
    },
    {
      "cell_type": "code",
      "source": [
        "#lets plot it!\n",
        "import matplotlib.pyplot as plt\n",
        "plt.style.use(\"seaborn\")\n",
        "\n",
        "plt.plot(equity_curve[:,3], color = 'blue', label = 'buy profit')\n",
        "plt.grid()\n",
        "plt.title('potential profit realized off buy/sell indicators')\n",
        "plt.legend(fontsize = 13)\n",
        "plt.show()"
      ],
      "metadata": {
        "colab": {
          "base_uri": "https://localhost:8080/",
          "height": 362
        },
        "id": "JEwVG4CIqfO0",
        "outputId": "b37ad1b7-83d2-48ea-c6c5-ea13de5f6307"
      },
      "execution_count": null,
      "outputs": [
        {
          "output_type": "display_data",
          "data": {
            "text/plain": [
              "<Figure size 576x396 with 1 Axes>"
            ],
            "image/png": "[encoded data removed]"
          },
          "metadata": {}
        }
      ]
    },
    {
      "cell_type": "code",
      "source": [
        "# Using the function\n",
        "performance(indexer, history_array, 'aapl')"
      ],
      "metadata": {
        "colab": {
          "base_uri": "https://localhost:8080/",
          "height": 371
        },
        "id": "ftCSrUoQWOrr",
        "outputId": "2681d4fa-44dc-4ff0-c45f-b67b65a2ade2"
      },
      "execution_count": null,
      "outputs": [
        {
          "output_type": "error",
          "ename": "AxisError",
          "evalue": "ignored",
          "traceback": [
            "\u001b[0;31m---------------------------------------------------------------------------\u001b[0m",
            "\u001b[0;31mAxisError\u001b[0m                                 Traceback (most recent call last)",
            "\u001b[0;32m<ipython-input-13-8e9fa43e85f3>\u001b[0m in \u001b[0;36m<module>\u001b[0;34m()\u001b[0m\n\u001b[1;32m      1\u001b[0m \u001b[0;31m# Using the function\u001b[0m\u001b[0;34m\u001b[0m\u001b[0;34m\u001b[0m\u001b[0;34m\u001b[0m\u001b[0m\n\u001b[0;32m----> 2\u001b[0;31m \u001b[0mperformance\u001b[0m\u001b[0;34m(\u001b[0m\u001b[0mindexer\u001b[0m\u001b[0;34m,\u001b[0m \u001b[0mhistory_array\u001b[0m\u001b[0;34m,\u001b[0m \u001b[0;34m'aapl'\u001b[0m\u001b[0;34m)\u001b[0m\u001b[0;34m\u001b[0m\u001b[0;34m\u001b[0m\u001b[0m\n\u001b[0m",
            "\u001b[0;32m<ipython-input-3-8716f9096ce5>\u001b[0m in \u001b[0;36mperformance\u001b[0;34m(indexer, Data, name)\u001b[0m\n\u001b[1;32m    140\u001b[0m \u001b[0;34m\u001b[0m\u001b[0m\n\u001b[1;32m    141\u001b[0m   \u001b[0;31m# Profitability index\u001b[0m\u001b[0;34m\u001b[0m\u001b[0;34m\u001b[0m\u001b[0;34m\u001b[0m\u001b[0m\n\u001b[0;32m--> 142\u001b[0;31m   \u001b[0mindexer\u001b[0m \u001b[0;34m=\u001b[0m \u001b[0mnp\u001b[0m\u001b[0;34m.\u001b[0m\u001b[0mdelete\u001b[0m\u001b[0;34m(\u001b[0m\u001b[0mindexer\u001b[0m\u001b[0;34m,\u001b[0m \u001b[0;36m0\u001b[0m\u001b[0;34m,\u001b[0m \u001b[0maxis\u001b[0m \u001b[0;34m=\u001b[0m \u001b[0;36m1\u001b[0m\u001b[0;34m)\u001b[0m\u001b[0;34m\u001b[0m\u001b[0;34m\u001b[0m\u001b[0m\n\u001b[0m\u001b[1;32m    143\u001b[0m   \u001b[0mindexer\u001b[0m \u001b[0;34m=\u001b[0m \u001b[0mnp\u001b[0m\u001b[0;34m.\u001b[0m\u001b[0mdelete\u001b[0m\u001b[0;34m(\u001b[0m\u001b[0mindexer\u001b[0m\u001b[0;34m,\u001b[0m \u001b[0;36m0\u001b[0m\u001b[0;34m,\u001b[0m \u001b[0maxis\u001b[0m \u001b[0;34m=\u001b[0m \u001b[0;36m1\u001b[0m\u001b[0;34m)\u001b[0m\u001b[0;34m\u001b[0m\u001b[0;34m\u001b[0m\u001b[0m\n\u001b[1;32m    144\u001b[0m \u001b[0;34m\u001b[0m\u001b[0m\n",
            "\u001b[0;32m<__array_function__ internals>\u001b[0m in \u001b[0;36mdelete\u001b[0;34m(*args, **kwargs)\u001b[0m\n",
            "\u001b[0;32m/usr/local/lib/python3.7/dist-packages/numpy/lib/function_base.py\u001b[0m in \u001b[0;36mdelete\u001b[0;34m(arr, obj, axis)\u001b[0m\n\u001b[1;32m   4462\u001b[0m         \u001b[0maxis\u001b[0m \u001b[0;34m=\u001b[0m \u001b[0mndim\u001b[0m \u001b[0;34m-\u001b[0m \u001b[0;36m1\u001b[0m\u001b[0;34m\u001b[0m\u001b[0;34m\u001b[0m\u001b[0m\n\u001b[1;32m   4463\u001b[0m     \u001b[0;32melse\u001b[0m\u001b[0;34m:\u001b[0m\u001b[0;34m\u001b[0m\u001b[0;34m\u001b[0m\u001b[0m\n\u001b[0;32m-> 4464\u001b[0;31m         \u001b[0maxis\u001b[0m \u001b[0;34m=\u001b[0m \u001b[0mnormalize_axis_index\u001b[0m\u001b[0;34m(\u001b[0m\u001b[0maxis\u001b[0m\u001b[0;34m,\u001b[0m \u001b[0mndim\u001b[0m\u001b[0;34m)\u001b[0m\u001b[0;34m\u001b[0m\u001b[0;34m\u001b[0m\u001b[0m\n\u001b[0m\u001b[1;32m   4465\u001b[0m \u001b[0;34m\u001b[0m\u001b[0m\n\u001b[1;32m   4466\u001b[0m     \u001b[0mslobj\u001b[0m \u001b[0;34m=\u001b[0m \u001b[0;34m[\u001b[0m\u001b[0mslice\u001b[0m\u001b[0;34m(\u001b[0m\u001b[0;32mNone\u001b[0m\u001b[0;34m)\u001b[0m\u001b[0;34m]\u001b[0m\u001b[0;34m*\u001b[0m\u001b[0mndim\u001b[0m\u001b[0;34m\u001b[0m\u001b[0;34m\u001b[0m\u001b[0m\n",
            "\u001b[0;31mAxisError\u001b[0m: axis 1 is out of bounds for array of dimension 0"
          ]
        }
      ]
    },
    {
      "cell_type": "code",
      "source": [
        "adder(history_array,1)"
      ],
      "metadata": {
        "colab": {
          "base_uri": "https://localhost:8080/"
        },
        "id": "lK6CTjLsWR7q",
        "outputId": "b5f15969-026b-41dd-d855-5b98238e7c10"
      },
      "execution_count": null,
      "outputs": [
        {
          "output_type": "execute_result",
          "data": {
            "text/plain": [
              "array([[134.21229443, 134.60994015, 133.3176181 , ...,   0.        ,\n",
              "          0.        ,   0.        ],\n",
              "       [133.51643884, 134.22225054, 132.29371043, ...,   0.        ,\n",
              "          0.        ,   0.        ],\n",
              "       [135.66368462, 136.26014566, 131.66743206, ...,   0.        ,\n",
              "          0.        ,   0.        ],\n",
              "       ...,\n",
              "       [166.46000671, 167.86999512, 161.5       , ...,   0.        ,\n",
              "          4.63000488,   0.        ],\n",
              "       [161.11999512, 163.16999817, 158.46000671, ...,   0.        ,\n",
              "         -1.0900116 ,   0.        ],\n",
              "       [162.25      , 162.33999634, 156.72000122, ...,   0.        ,\n",
              "          6.08000183,   0.        ]])"
            ]
          },
          "metadata": {},
          "execution_count": 40
        }
      ]
    },
    {
      "cell_type": "code",
      "source": [
        "history_array.shape"
      ],
      "metadata": {
        "colab": {
          "base_uri": "https://localhost:8080/"
        },
        "id": "hyzppOukWYDW",
        "outputId": "2f0d732b-d891-4224-d491-311c72e3494b"
      },
      "execution_count": null,
      "outputs": [
        {
          "output_type": "execute_result",
          "data": {
            "text/plain": [
              "(253, 9)"
            ]
          },
          "metadata": {},
          "execution_count": 41
        }
      ]
    },
    {
      "cell_type": "code",
      "source": [
        ""
      ],
      "metadata": {
        "id": "toXh_frRXChV"
      },
      "execution_count": null,
      "outputs": []
    },
    {
      "cell_type": "code",
      "source": [
        "# rsi(Data, lookback, close, where, width = 1, genre = 'Smoothed')\n",
        "rsi = rsi(history_array,20,3,8,width=1,genre=\"Simple\")"
      ],
      "metadata": {
        "colab": {
          "base_uri": "https://localhost:8080/"
        },
        "id": "bx4xJlZjYKBc",
        "outputId": "4e4ed214-2424-48a2-ea7f-5f1165cc0c15"
      },
      "execution_count": null,
      "outputs": [
        {
          "output_type": "stream",
          "name": "stderr",
          "text": [
            "/usr/local/lib/python3.7/dist-packages/ipykernel_launcher.py:55: RuntimeWarning: Mean of empty slice.\n",
            "/usr/local/lib/python3.7/dist-packages/numpy/core/_methods.py:189: RuntimeWarning: invalid value encountered in double_scalars\n",
            "  ret = ret.dtype.type(ret / rcount)\n"
          ]
        }
      ]
    },
    {
      "cell_type": "code",
      "source": [
        ""
      ],
      "metadata": {
        "id": "0ugYHbBk-6eC"
      },
      "execution_count": null,
      "outputs": []
    }
  ]
}